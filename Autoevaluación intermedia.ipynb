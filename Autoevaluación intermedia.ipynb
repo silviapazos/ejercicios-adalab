{
 "cells": [
  {
   "cell_type": "code",
   "execution_count": 2,
   "metadata": {},
   "outputs": [
    {
     "name": "stdout",
     "output_type": "stream",
     "text": [
      "4\n"
     ]
    }
   ],
   "source": [
    "# 1 Dada una cadena de texto, contar cuántas veces aparece una letra específica en ella. Usa un input para que el usuario elija la letra a buscar\n",
    "\n",
    "cadena = \"Python es un lenguaje de programación muy popular\"\n",
    "\n",
    "letra_usuario=input(\"elegir una letra cualquiera de la frase\")\n",
    "print(cadena.count(letra_usuario))"
   ]
  },
  {
   "cell_type": "code",
   "execution_count": 3,
   "metadata": {},
   "outputs": [
    {
     "data": {
      "text/plain": [
       "'Python es genial. Python es difícil de aprender.'"
      ]
     },
     "execution_count": 3,
     "metadata": {},
     "output_type": "execute_result"
    }
   ],
   "source": [
    "# 2 Escribe un programa que tome la siguiente cadena de texto y reemplace una palabra específica por otra palabra. \\n\n",
    "# La palabra a reemplazar y reemplazada deben ser elegidas por el usuario\n",
    "\n",
    "cadena = \"Python es genial. Python es fácil de aprender.\"\n",
    "\n",
    "palabra_reemplazada=input(\"elige una palabra para reemplazsar\")\n",
    "palabra_nueva=input(\"elige ahora la palabra por la que la quieres cambiar\")\n",
    "\n",
    "cadena.replace(palabra_reemplazada, palabra_nueva)"
   ]
  },
  {
   "cell_type": "code",
   "execution_count": 97,
   "metadata": {},
   "outputs": [
    {
     "name": "stdout",
     "output_type": "stream",
     "text": [
      "['Esto', 'es', 'una', 'oración', 'de', 'ejemplo']\n",
      "Esto-es-una-oración-de-ejemplo\n"
     ]
    }
   ],
   "source": [
    "# 3 Toma la siguiente oración y divídela en una lista de palabras. Luego, únelas nuevamente en una sola cadena de texto.\n",
    "\n",
    "oracion = \"Esto es una oración de ejemplo\"\n",
    "\n",
    "print(oracion.split())\n",
    "oracion2=oracion.split()\n",
    "\n",
    "# devuelvo a formato string\n",
    "oracion3=\"-\".join(oracion2)\n",
    "print(oracion3)\n",
    "\n"
   ]
  },
  {
   "cell_type": "code",
   "execution_count": 21,
   "metadata": {},
   "outputs": [
    {
     "name": "stdout",
     "output_type": "stream",
     "text": [
      "['Esta', 'es', 'una', 'cadena', 'con', 'cinco', 'palabras']\n"
     ]
    },
    {
     "data": {
      "text/plain": [
       "6"
      ]
     },
     "execution_count": 21,
     "metadata": {},
     "output_type": "execute_result"
    }
   ],
   "source": [
    "# 4 Desarrolla un programa que cuente cuántas palabras hay en la siguiente frase.\n",
    "\n",
    "cadena = \"Esta es una cadena con cinco palabras\"\n",
    "\n",
    "# ojo ---> la funcion len() me devuelve nº de letras no palabras\n",
    "len(cadena)\n",
    "\n",
    "lista_cadena=cadena.split()\n",
    "print(lista_cadena)\n",
    "\n",
    "# cuantos elementos\n",
    "lista_cadena.index(\"palabras\")\n",
    "\n",
    "#siempre es una más porque empieza por 0"
   ]
  },
  {
   "cell_type": "code",
   "execution_count": 99,
   "metadata": {},
   "outputs": [
    {
     "name": "stdout",
     "output_type": "stream",
     "text": [
      "['hola,', 'por', 'fin', 'es', 'lunes']\n",
      "['lunes', 'es', 'fin', 'por', 'hola,']\n",
      "lunes es fin por hola,\n"
     ]
    }
   ],
   "source": [
    "# 5 Escribe un programa que invierta una cadena de texto dada por un usuario. \n",
    "\n",
    "saludo=input(\"saludo en una frase\")\n",
    "lista_saludo=saludo.split()\n",
    "print(lista_saludo)\n",
    "\n",
    "#cambio orden de la lista\n",
    "lista_cadena_invertida=lista_saludo[::-1]\n",
    "print(lista_cadena_invertida)\n",
    "print(\" \".join(lista_cadena_invertida))\n",
    "\n",
    "#razonar por que es asi...\n",
    "# con funcion reverse() de listas tambien?\n",
    "# OTRA OPCION: cadena invertida=\"\".join(reversed(cadena original))"
   ]
  },
  {
   "cell_type": "code",
   "execution_count": null,
   "metadata": {},
   "outputs": [],
   "source": [
    "# LISTAS"
   ]
  },
  {
   "cell_type": "code",
   "execution_count": 34,
   "metadata": {},
   "outputs": [
    {
     "name": "stdout",
     "output_type": "stream",
     "text": [
      "['manzana', 'durazno', 'banana', 'uva', 'kiwi']\n",
      "['manzana', 'durazno', 'banana', 'uva', 'kiwi', 'naranja']\n",
      "banana\n"
     ]
    }
   ],
   "source": [
    "#1 Reemplaza el segundo elemento con 'durazno'.\n",
    "frutas = ['manzana', 'pera', 'banana', 'uva', 'kiwi']\n",
    "\n",
    "frutas[1]=\"durazno\"\n",
    "\n",
    "print(frutas)\n",
    "\n",
    "# Agrega 'naranja' al final de la lista.\n",
    "frutas.append(\"naranja\")\n",
    "print(frutas)\n",
    "\n",
    "# trae y muestra por pantalla el tercer elemento de la lista.\n",
    "print(frutas[2])"
   ]
  },
  {
   "cell_type": "code",
   "execution_count": 107,
   "metadata": {},
   "outputs": [
    {
     "name": "stdout",
     "output_type": "stream",
     "text": [
      "[10, 25, 15, 30, 20]\n"
     ]
    }
   ],
   "source": [
    "# 2 Crea una lista llamada numeros que contenga los siguientes valores: 10, 25, 15, 30, 20\n",
    "numeros=[10, 25, 15, 30, 20]\n",
    "print(numeros)"
   ]
  },
  {
   "cell_type": "code",
   "execution_count": 108,
   "metadata": {},
   "outputs": [
    {
     "name": "stdout",
     "output_type": "stream",
     "text": [
      "[35, 10, 25, 15, 30, 20]\n"
     ]
    }
   ],
   "source": [
    "# 3 Agrega el valor 35 al incio de la lista numeros.\n",
    "numeros.insert(0, 35)\n",
    "print(numeros)\n",
    "\n",
    "# OJO si pongo print en esta misma caja cada vez q ejecute se añade un 35,"
   ]
  },
  {
   "cell_type": "code",
   "execution_count": 50,
   "metadata": {},
   "outputs": [
    {
     "name": "stdout",
     "output_type": "stream",
     "text": [
      "[35, 10, 25, 15, 30, 20]\n"
     ]
    }
   ],
   "source": [
    "print(numeros)"
   ]
  },
  {
   "cell_type": "code",
   "execution_count": 51,
   "metadata": {},
   "outputs": [
    {
     "name": "stdout",
     "output_type": "stream",
     "text": [
      "[10, 15, 20, 25, 30, 35]\n"
     ]
    }
   ],
   "source": [
    "# 4 Ordena la lista numeros en orden ascendente.\n",
    "numeros.sort()\n",
    "print(numeros)"
   ]
  },
  {
   "cell_type": "code",
   "execution_count": null,
   "metadata": {},
   "outputs": [],
   "source": [
    "#..............."
   ]
  },
  {
   "cell_type": "code",
   "execution_count": 55,
   "metadata": {},
   "outputs": [
    {
     "data": {
      "text/plain": [
       "1"
      ]
     },
     "execution_count": 55,
     "metadata": {},
     "output_type": "execute_result"
    }
   ],
   "source": [
    "#TUPLAS\n",
    "\n",
    "# 1 Crea una tupla llamada colores que contenga los siguientes valores: 'rojo', 'verde', 'azul', 'amarillo', 'morado'.\n",
    "\n",
    "colores= (\"rojo\", \"verde\",\"azul\",\"amarillo\",\"morado\")\n",
    "\n",
    "# 2 Encuentra el índice de 'verde' en la tupla colores.\n",
    "colores.index(\"verde\")\n"
   ]
  },
  {
   "cell_type": "code",
   "execution_count": 61,
   "metadata": {},
   "outputs": [
    {
     "name": "stdout",
     "output_type": "stream",
     "text": [
      "['rojo', 'verde', 'azul', 'amarillo', 'morado']\n",
      "['rojo', 'verde', 'azul', 'amarillo', 'morado', 'morado']\n"
     ]
    }
   ],
   "source": [
    "# 4 Añade el color \"morado\" a la tupla colores. ¿Qué ha pasado? ¿Por qué? Como podríamos añadir el elemento \"morado\".\n",
    "\n",
    "# las tuplas no se pueden modificar por lo que hay que convertirlo en LISTA ni se pueden repetir elementos\n",
    "\n",
    "lista_colores=list(colores)\n",
    "print(lista_colores)\n",
    "lista_colores.append(\"morado\")\n",
    "\n",
    "print(lista_colores) \n",
    "\n",
    "#Ojo aqui no pasa que cadad vez que print se me añade de nuevo morado?"
   ]
  },
  {
   "cell_type": "code",
   "execution_count": 110,
   "metadata": {},
   "outputs": [
    {
     "data": {
      "text/plain": [
       "['manzana', 'banana', 'uva', 'pera']"
      ]
     },
     "execution_count": 110,
     "metadata": {},
     "output_type": "execute_result"
    }
   ],
   "source": [
    "# DICCIONARIOS\n",
    "\n",
    "# 1 Crea un diccionario llamado frutas con las siguientes parejas clave-valor\n",
    "\n",
    "frutas={\"manzana\":2, \"banana\":3, \"uva\":5, \"pera\":4}\n",
    "\n",
    "# 2 Saca una lista de todas las frutas en el diccionario.\n",
    "frutas.keys()\n",
    "list(frutas.keys())\n"
   ]
  },
  {
   "cell_type": "code",
   "execution_count": 111,
   "metadata": {},
   "outputs": [
    {
     "data": {
      "text/plain": [
       "[2, 3, 5, 4]"
      ]
     },
     "execution_count": 111,
     "metadata": {},
     "output_type": "execute_result"
    }
   ],
   "source": [
    "# 3 Saca una lista de todas las cantidades en el diccionario.\n",
    "list(frutas.values())"
   ]
  },
  {
   "cell_type": "code",
   "execution_count": 67,
   "metadata": {},
   "outputs": [
    {
     "data": {
      "text/plain": [
       "2"
      ]
     },
     "execution_count": 67,
     "metadata": {},
     "output_type": "execute_result"
    }
   ],
   "source": [
    "# 4 Qué cantidad de 'manzana' tenemos?. \\n\n",
    "#Si la clave 'manzana' no está presente, devuelve un mensaje diciendo \"No existe esa clave\".\n",
    "\n",
    "frutas.get(\"manzana\", \"la clave no está presente\")"
   ]
  },
  {
   "cell_type": "code",
   "execution_count": 70,
   "metadata": {},
   "outputs": [
    {
     "name": "stdout",
     "output_type": "stream",
     "text": [
      "{'manzana': 2, 'banana': 3, 'uva': 5, 'pera': 4, 'kiwi': 6}\n"
     ]
    }
   ],
   "source": [
    "# 5 Agrega un nuevo par de clave-valor al diccionario frutas: 'kiwi' con una cantidad de 6.\n",
    "\n",
    "nueva_fruta={\"kiwi\":6}\n",
    "frutas.update(nueva_fruta)\n",
    "print(frutas)\n",
    "\n",
    "#tambien se puede crer con setdefault???"
   ]
  },
  {
   "cell_type": "code",
   "execution_count": 72,
   "metadata": {},
   "outputs": [
    {
     "name": "stdout",
     "output_type": "stream",
     "text": [
      "{'manzana': 2, 'banana': 3, 'uva': 5, 'pera': 4, 'kiwi': 6, 'uvas': 8}\n"
     ]
    }
   ],
   "source": [
    "# 6 Cambia la cantidad de 'uva' a 8.\n",
    "\n",
    "frutas[\"uvas\"]= 8\n",
    "print(frutas)"
   ]
  },
  {
   "cell_type": "code",
   "execution_count": 73,
   "metadata": {},
   "outputs": [],
   "source": [
    "# 7 Crea un segundo diccionario llamado frutas_nuevas con las siguientes parejas clave-valor\n",
    "\n",
    "frutas_nuevas={\"sandia\":7, \"mango\":4}"
   ]
  },
  {
   "cell_type": "code",
   "execution_count": 79,
   "metadata": {},
   "outputs": [
    {
     "name": "stdout",
     "output_type": "stream",
     "text": [
      "{'manzana': 2, 'banana': 3, 'uva': 5, 'pera': 4, 'kiwi': 6, 'uvas': 8, 'sandia': 7, 'mango': 4}\n",
      "None\n"
     ]
    }
   ],
   "source": [
    "# 8 Combinar los dos diccionarios frutas_nuevas y frutas en uno nuevos llamado frutas_total\n",
    "\n",
    "frutas_total=frutas.update(frutas_nuevas)\n",
    "print(frutas) \n",
    "print(frutas_total)\n",
    "\n",
    "# por que pasa eso??"
   ]
  },
  {
   "cell_type": "code",
   "execution_count": null,
   "metadata": {},
   "outputs": [],
   "source": [
    "# 9 Elimina el último par de clave-valor del diccionario fruta_total.\n",
    ".pop()"
   ]
  },
  {
   "cell_type": "code",
   "execution_count": 80,
   "metadata": {},
   "outputs": [
    {
     "data": {
      "text/plain": [
       "5"
      ]
     },
     "execution_count": 80,
     "metadata": {},
     "output_type": "execute_result"
    }
   ],
   "source": [
    "# 10 Elimina el par de clave-valor correspondiente a la clave 'uva' del diccionario.\n",
    "frutas.pop(\"uva\")\n",
    "\n",
    "#me devuelve valor y lo borra"
   ]
  },
  {
   "cell_type": "code",
   "execution_count": null,
   "metadata": {},
   "outputs": [],
   "source": [
    "# 11 Agregar la fruta 'manzana' con una cantidad de 10 al diccionario. \\n\n",
    "#Si ya existe, no se realizarán cambios en los valores que teníamos.\n",
    "\n",
    "# las claves son unicas, si se duplican se sobreescriben \n"
   ]
  },
  {
   "cell_type": "code",
   "execution_count": null,
   "metadata": {},
   "outputs": [],
   "source": []
  },
  {
   "cell_type": "code",
   "execution_count": 82,
   "metadata": {},
   "outputs": [
    {
     "name": "stdout",
     "output_type": "stream",
     "text": [
      "eres adulto\n"
     ]
    }
   ],
   "source": [
    "#SECUENCIAS DE CONTROL\n",
    "\n",
    "# 1: Evaluación de Edades\n",
    "\n",
    "#Escribe un programa que solicite al usuario ingresar su edad.\n",
    "edad=input(\"que edad tienes\")\n",
    "\n",
    "if int(edad) < 18:\n",
    "    print( \"eres menor de edad\")\n",
    "elif int(edad)>=18 and int(edad) <= 65:\n",
    "    print(\"eres adulto\")\n",
    "else:\n",
    "    print(\"eres un adulto mayor\")\n"
   ]
  },
  {
   "cell_type": "code",
   "execution_count": 83,
   "metadata": {},
   "outputs": [
    {
     "name": "stdout",
     "output_type": "stream",
     "text": [
      "viernes\n"
     ]
    }
   ],
   "source": [
    "# 2 Determinación de Día de la Semana\n",
    "#Solicita al usuario que ingrese un número del 1 al 7.\n",
    "\n",
    "número_usuario=input(\"dime un número del 1 al 7\") \n",
    "\n",
    "if int(número_usuario)==1:\n",
    "    print(\"lunes\")\n",
    "\n",
    "elif int(número_usuario==2):\n",
    "    print(\"martes\")\n",
    "elif int(número_usuario)==3:\n",
    "    print(\"miércoles\")\n",
    "elif int(número_usuario)==4:\n",
    "    print(\"jueves\")\n",
    "elif int(número_usuario)==5:\n",
    "    print(\"viernes\")\n",
    "elif int(número_usuario)==6:\n",
    "    print(\"sábado\")\n",
    "elif int(número_usuario)==7:\n",
    "    print(\"domingo\")\n"
   ]
  },
  {
   "cell_type": "code",
   "execution_count": 89,
   "metadata": {},
   "outputs": [
    {
     "name": "stdout",
     "output_type": "stream",
     "text": [
      "70\n",
      "24\n"
     ]
    }
   ],
   "source": [
    "# 3 : Juego de Adivinanza\n",
    "# Genera un número aleatorio entre 1 y 100. Pídele al usuario que adivine el número. \n",
    "\n",
    "import random\n",
    "\n",
    "número_azar=random.randint(1,100)\n",
    "print(número_azar)\n",
    "\n",
    "número_aleatorio=input(\"dime un número del 1 al 100\") \n",
    "print(número_aleatorio)\n",
    "\n"
   ]
  },
  {
   "cell_type": "code",
   "execution_count": 93,
   "metadata": {},
   "outputs": [
    {
     "name": "stdout",
     "output_type": "stream",
     "text": [
      "no,pero te doy una pista: el número es menor\n"
     ]
    }
   ],
   "source": [
    "if int(número_aleatorio)== int(número_azar):\n",
    "    print(\"ganaste en el primer intento!\")\n",
    "elif int(número_aleatorio) > int(número_azar):\n",
    "    print(\"no,pero te doy una pista: el número es mayor\")\n",
    "elif int(número_aleatorio) < int(número_azar):\n",
    "    print(\"no,pero te doy una pista: el número es menor\")\n",
    "\n",
    "    \n",
    "\n",
    "\n"
   ]
  }
 ],
 "metadata": {
  "kernelspec": {
   "display_name": "base",
   "language": "python",
   "name": "python3"
  },
  "language_info": {
   "codemirror_mode": {
    "name": "ipython",
    "version": 3
   },
   "file_extension": ".py",
   "mimetype": "text/x-python",
   "name": "python",
   "nbconvert_exporter": "python",
   "pygments_lexer": "ipython3",
   "version": "3.9.7"
  }
 },
 "nbformat": 4,
 "nbformat_minor": 2
}
