{
 "cells": [
  {
   "cell_type": "code",
   "execution_count": 2,
   "metadata": {},
   "outputs": [],
   "source": [
    "# 14.  Crea un programa que calcule el impuesto sobre la renta de una persona basado en su ingreso anual y su estado civil (soltero o casado). Para eso deberás: \n",
    "\n",
    "  #Solicitar al usuario su ingreso anual.\n",
    "\n",
    "  #Preguntar al usuario su estado civil, permitiendo dos opciones: \"soltero\" (S) o \"casado\" (C).\n",
    "\n",
    "  #Calcular el impuesto sobre la renta utilizando las siguientes reglas:\n",
    "\n",
    "    #Si el estado civil es \"soltero\" (S):\n",
    "\n",
    "      #Si el ingreso anual es menor o igual a $9,875, el impuesto es el 10% del ingreso anual.\n",
    "\n",
    "      #Si el ingreso anual está entre $9,876 y $40,125, el impuesto es el 10% de los primeros $9,875 más el 12% de la cantidad que excede los $9,875.\n",
    "     \n",
    "\n",
    "    #Si el estado civil es \"casado\" (C):\n",
    "    \n",
    "      #Si el ingreso anual es menor o igual a $19,850, el impuesto es el 10% del ingreso anual.\n",
    "\n",
    "      #Si el ingreso anual está entre $19,851 y $80,250, el impuesto es el 10% de los primeros $19,850 más el 12% de la cantidad que excede los $19,850."
   ]
  },
  {
   "cell_type": "code",
   "execution_count": 27,
   "metadata": {},
   "outputs": [
    {
     "name": "stdout",
     "output_type": "stream",
     "text": [
      "20000\n"
     ]
    }
   ],
   "source": [
    "ingreso_anual=input(\"cuales son tus ingresos anuales\")\n",
    "print(ingreso_anual) \n",
    "\n",
    "estado_civil=input(\"cuál es tu estado civil: solter@ o casad@\") \n",
    "\n",
    "impuesto_anual1=int(ingreso_anual)*0.1\n",
    "\n"
   ]
  },
  {
   "cell_type": "code",
   "execution_count": 38,
   "metadata": {},
   "outputs": [
    {
     "name": "stdout",
     "output_type": "stream",
     "text": [
      "2202.5\n",
      "2003.0\n"
     ]
    }
   ],
   "source": [
    "impuesto_anual2=0.12*(int(ingreso_anual)-9875) + 0.1*int(9875)\n",
    "print(impuesto_anual2) \n",
    "\n",
    "impuesto_anual3=0.12*(int(ingreso_anual)-19850) + 0.1*(19850)\n",
    "print(impuesto_anual3)"
   ]
  },
  {
   "cell_type": "code",
   "execution_count": 41,
   "metadata": {},
   "outputs": [
    {
     "name": "stdout",
     "output_type": "stream",
     "text": [
      "2202.5\n"
     ]
    }
   ],
   "source": [
    "if estado_civil == \"solter@\":\n",
    "\n",
    "    if int(ingreso_anual) <= 9875:\n",
    "        print(impuesto_anual1)\n",
    "\n",
    "\n",
    "    elif int(ingreso_anual) <= 40125:\n",
    "        print(impuesto_anual2)\n",
    "\n",
    "else:\n",
    "    if int(ingreso_anual) <= 19850:\n",
    "        print(impuesto_anual1)\n",
    "\n",
    "\n",
    "    elif int(ingreso_anual) > 80250:\n",
    "        print(impuesto_anual3)\n",
    "        \n",
    "\n",
    "         "
   ]
  }
 ],
 "metadata": {
  "kernelspec": {
   "display_name": "base",
   "language": "python",
   "name": "python3"
  },
  "language_info": {
   "codemirror_mode": {
    "name": "ipython",
    "version": 3
   },
   "file_extension": ".py",
   "mimetype": "text/x-python",
   "name": "python",
   "nbconvert_exporter": "python",
   "pygments_lexer": "ipython3",
   "version": "3.9.7"
  }
 },
 "nbformat": 4,
 "nbformat_minor": 2
}
