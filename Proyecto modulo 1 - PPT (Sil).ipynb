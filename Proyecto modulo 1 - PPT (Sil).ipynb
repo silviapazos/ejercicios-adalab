{
 "cells": [
  {
   "cell_type": "code",
   "execution_count": 1,
   "metadata": {},
   "outputs": [],
   "source": [
    "# Piedra, Papel o Tijera\n",
    "\n",
    "import random \n",
    "\n",
    "opciones=(\"piedra\", \"papel\", \"tijera\")\n",
    "turnos_usuario1 = 0\n",
    "turnos_usuario2= 0\n",
    "\n",
    "while True\n",
    "    usuario1=input(\"piedra, papel o tijera\")\n",
    "    usuario2=random.choice(opciones)\n",
    "\n",
    "    if usuario1 not in opciones:\n",
    "        print(\"esa opción no es correcta\") \n",
    "\n",
    "\n",
    "    \n",
    "\n"
   ]
  },
  {
   "cell_type": "code",
   "execution_count": null,
   "metadata": {},
   "outputs": [],
   "source": [
    "if usuario1==usuario2:\n",
    "    print(\"EMPATE\")\n",
    "\n",
    "elif usuario1== \"piedra\":\n",
    "    if usuario2 == \"tijera\":\n",
    "        print(usuario1 \",¡has ganado!\")\n",
    "        turnos_usuario1 +=1\n",
    "        \n",
    "    else:\n",
    "        print(\"papel gana a piedra\")\n",
    "        turnos_usuario2 +=1\n",
    "\n",
    "elif usuario1==\"papel\":\n",
    "    if usuario2==\"piedra\":\n",
    "        print(usuario1 \",¡has hanado!\")\n",
    "        turnos_usuario1 +=1\n",
    "\n",
    "    else:\n",
    "        print(\"piedra gana a tijera\")\n",
    "        turnos_usuario2 +=1\n",
    "\n",
    "elif usuario1==\"tijera\":\n",
    "    if usuario2==\"papel\":\n",
    "        print(usuario1 \",¡has ganado!\")\n",
    "        turnos_usuario1 +=1\n",
    "\n",
    "    else:\n",
    "        print(\"piedra gana a tijera\")\n",
    "        turnos_usuario2 +=1\n",
    "\n",
    "if turnos_usuario1==2:\n",
    "    print(\"GANADOR\")\n",
    "    break\n",
    "\n",
    "if turnos_usuario2==2:\n",
    "    print(\"GANADOR\")\n",
    "    break\n",
    "\n",
    "\n",
    "\n"
   ]
  },
  {
   "cell_type": "code",
   "execution_count": null,
   "metadata": {},
   "outputs": [],
   "source": [
    "#prueba\n",
    "opciones=(\"piedra\", \"papel\", \"tijera\")\n",
    "usuario1=input(\"piedra, papel o tijera\")\n",
    "\n",
    "if usuario1 not in opciones:\n",
    "        print(\"esa opción no es correcta\")\n"
   ]
  },
  {
   "cell_type": "code",
   "execution_count": 3,
   "metadata": {},
   "outputs": [
    {
     "name": "stdout",
     "output_type": "stream",
     "text": [
      "piedra\n"
     ]
    }
   ],
   "source": [
    "#prueba de random\n",
    "\n",
    "import random\n",
    "opciones=(\"piedra\", \"papel\", \"tijera\")\n",
    "usuario2=random.choice(opciones)\n",
    "\n",
    "print(usuario2)"
   ]
  }
 ],
 "metadata": {
  "kernelspec": {
   "display_name": "base",
   "language": "python",
   "name": "python3"
  },
  "language_info": {
   "codemirror_mode": {
    "name": "ipython",
    "version": 3
   },
   "file_extension": ".py",
   "mimetype": "text/x-python",
   "name": "python",
   "nbconvert_exporter": "python",
   "pygments_lexer": "ipython3",
   "version": "3.9.7"
  }
 },
 "nbformat": 4,
 "nbformat_minor": 2
}
