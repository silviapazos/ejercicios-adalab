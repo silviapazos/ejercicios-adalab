{
 "cells": [
  {
   "cell_type": "code",
   "execution_count": 5,
   "metadata": {},
   "outputs": [
    {
     "name": "stdout",
     "output_type": "stream",
     "text": [
      "['azul', 'verde', 'rojo', 'amarillo', 'blanco', 'rosa']\n"
     ]
    }
   ],
   "source": [
    "# Haz una lista llamada `colores` donde almacenemos los primeros 6 colores que te vengan a la mente.\n",
    "lista_colores = [\"azul\", \"verde\", \"rojo\", \"amarillo\", \"blanco\", \"rosa\"]\n",
    "print (lista_colores)"
   ]
  },
  {
   "cell_type": "code",
   "execution_count": 7,
   "metadata": {},
   "outputs": [
    {
     "name": "stdout",
     "output_type": "stream",
     "text": [
      "[25, 17, 1, 13]\n"
     ]
    }
   ],
   "source": [
    "#Haz una lista llamada `buses` de las líneas de autobuses que pasan por tu casa.\n",
    "lista_buses = [25, 17, 1, 13]\n",
    "print (lista_buses)"
   ]
  },
  {
   "cell_type": "code",
   "execution_count": 8,
   "metadata": {},
   "outputs": [],
   "source": [
    "#Apunta la previsión de temperaturas máximas para todos los días de esta semana en `temperaturas`.\n",
    "temperaturas = [21, 22, 22, 23, 24, 22, 21, 21, 20] \n"
   ]
  },
  {
   "cell_type": "code",
   "execution_count": 17,
   "metadata": {},
   "outputs": [
    {
     "data": {
      "text/plain": [
       "['s', 'i', 'l', 'v', 'i', 'a']"
      ]
     },
     "execution_count": 17,
     "metadata": {},
     "output_type": "execute_result"
    }
   ],
   "source": [
    "# Convertir a listas\n",
    "\n",
    "  #4. Convierte tu(s) nombre(s) a una lista nombres de caracteres.\n",
    "  \n",
    "#  5. Convierte tu(s) apellido(s) a una lista apellidos de caracteres. \n",
    "\n",
    "nombre = \"silvia\"\n",
    "apellido1 = \"marrero\"\n",
    "apellido2 = \"pazos\"\n",
    "\n",
    "list(nombre) "
   ]
  },
  {
   "cell_type": "code",
   "execution_count": 18,
   "metadata": {},
   "outputs": [
    {
     "data": {
      "text/plain": [
       "['m', 'a', 'r', 'r', 'e', 'r', 'o']"
      ]
     },
     "execution_count": 18,
     "metadata": {},
     "output_type": "execute_result"
    }
   ],
   "source": [
    "list(apellido1) \n"
   ]
  },
  {
   "cell_type": "code",
   "execution_count": 20,
   "metadata": {},
   "outputs": [
    {
     "data": {
      "text/plain": [
       "['marrero', 'pazos']"
      ]
     },
     "execution_count": 20,
     "metadata": {},
     "output_type": "execute_result"
    }
   ],
   "source": [
    "apellidos = (apellido1, apellido2)\n",
    "list(apellidos)"
   ]
  },
  {
   "cell_type": "code",
   "execution_count": 21,
   "metadata": {},
   "outputs": [
    {
     "data": {
      "text/plain": [
       "('marrero', 'pazos')"
      ]
     },
     "execution_count": 21,
     "metadata": {},
     "output_type": "execute_result"
    }
   ],
   "source": [
    "apellidos"
   ]
  },
  {
   "cell_type": "code",
   "execution_count": 22,
   "metadata": {},
   "outputs": [
    {
     "name": "stdout",
     "output_type": "stream",
     "text": [
      "('marrero', 'pazos')\n"
     ]
    }
   ],
   "source": [
    "print(apellidos)"
   ]
  },
  {
   "cell_type": "code",
   "execution_count": 24,
   "metadata": {},
   "outputs": [
    {
     "data": {
      "text/plain": [
       "4"
      ]
     },
     "execution_count": 24,
     "metadata": {},
     "output_type": "execute_result"
    }
   ],
   "source": [
    "#- Usar `len()`, `min()`, y `max()`\n",
    "\n",
    "  #6. ¿Cuántos búses pasan por tu casa?\n",
    "\n",
    "  #7. ¿Cuántos caracteres hay en tu apellido(s) (inluyendo los espacios)?\n",
    "\n",
    " # 8. ¿Cuáles son las temperaturas máximas (`t_max`) y mínimas (`t_min`) para esta semana?\n",
    "\n",
    "len(lista_buses)"
   ]
  },
  {
   "cell_type": "code",
   "execution_count": 25,
   "metadata": {},
   "outputs": [
    {
     "data": {
      "text/plain": [
       "7"
      ]
     },
     "execution_count": 25,
     "metadata": {},
     "output_type": "execute_result"
    }
   ],
   "source": [
    "len(apellido1)"
   ]
  },
  {
   "cell_type": "code",
   "execution_count": 26,
   "metadata": {},
   "outputs": [
    {
     "data": {
      "text/plain": [
       "24"
      ]
     },
     "execution_count": 26,
     "metadata": {},
     "output_type": "execute_result"
    }
   ],
   "source": [
    "max(temperaturas)"
   ]
  },
  {
   "cell_type": "code",
   "execution_count": 27,
   "metadata": {},
   "outputs": [
    {
     "data": {
      "text/plain": [
       "20"
      ]
     },
     "execution_count": 27,
     "metadata": {},
     "output_type": "execute_result"
    }
   ],
   "source": [
    "min(temperaturas)"
   ]
  },
  {
   "cell_type": "code",
   "execution_count": null,
   "metadata": {},
   "outputs": [],
   "source": [
    "#9. Hay una 'e' en tu nombre?\n",
    "\n",
    "  #10. Tienes el color 'rosa' en la lista de colores?\n",
    "  \n",
    "  #11. ¿Tiene una 'x' tu nombre? (Usa `not in`)"
   ]
  },
  {
   "cell_type": "code",
   "execution_count": 28,
   "metadata": {},
   "outputs": [
    {
     "data": {
      "text/plain": [
       "False"
      ]
     },
     "execution_count": 28,
     "metadata": {},
     "output_type": "execute_result"
    }
   ],
   "source": [
    "\"e\" in nombre"
   ]
  },
  {
   "cell_type": "code",
   "execution_count": 29,
   "metadata": {},
   "outputs": [
    {
     "name": "stdout",
     "output_type": "stream",
     "text": [
      "False\n"
     ]
    }
   ],
   "source": [
    "print(\"e\" in nombre)"
   ]
  },
  {
   "cell_type": "code",
   "execution_count": 31,
   "metadata": {},
   "outputs": [
    {
     "data": {
      "text/plain": [
       "True"
      ]
     },
     "execution_count": 31,
     "metadata": {},
     "output_type": "execute_result"
    }
   ],
   "source": [
    "\"rosa\" in lista_colores"
   ]
  },
  {
   "cell_type": "code",
   "execution_count": 33,
   "metadata": {},
   "outputs": [
    {
     "data": {
      "text/plain": [
       "True"
      ]
     },
     "execution_count": 33,
     "metadata": {},
     "output_type": "execute_result"
    }
   ],
   "source": [
    "\"x\" not in nombre"
   ]
  },
  {
   "cell_type": "code",
   "execution_count": 38,
   "metadata": {},
   "outputs": [
    {
     "name": "stdout",
     "output_type": "stream",
     "text": [
      "[21, 22, 22, 23, 24, 22, 21, 21, 20]\n"
     ]
    }
   ],
   "source": [
    "#12. Copia el contenido de `temperaturas` a `temperaturas2`, y `temperaturas3`.\n",
    "\n",
    "temperatura2 = temperaturas.copy()\n",
    "\n",
    "print (temperatura2)\n"
   ]
  },
  {
   "cell_type": "code",
   "execution_count": 39,
   "metadata": {},
   "outputs": [],
   "source": [
    "#13. Vacía el contenido de la variable `temperaturas2`\n",
    "temperatura2.clear()"
   ]
  },
  {
   "cell_type": "code",
   "execution_count": 72,
   "metadata": {},
   "outputs": [
    {
     "name": "stdout",
     "output_type": "stream",
     "text": [
      "[20, 21, 21, 21, 22, 22, 22, 23, 24]\n",
      "[24, 23, 22, 22, 22, 21, 21, 21, 20]\n",
      "None\n"
     ]
    }
   ],
   "source": [
    "#17. Ordena la variable `temperaturas3` de mayor a menor.\n",
    "\n",
    "temperaturas.sort() \n",
    "print (temperaturas)\n",
    "\n",
    "#de mayor a menor\n",
    "\n",
    "temperaturas.sort(reverse=True)\n",
    "print (temperaturas)\n",
    "\n",
    "#es lo mismo?\n",
    "\n",
    "print (temperaturas.sort())\n"
   ]
  },
  {
   "cell_type": "code",
   "execution_count": 62,
   "metadata": {},
   "outputs": [
    {
     "name": "stdout",
     "output_type": "stream",
     "text": [
      "['s', 'i', 'l', 'v', 'i', 'a']\n",
      "['a', 'i', 'i', 'l', 's', 'v']\n"
     ]
    }
   ],
   "source": [
    "#18. Ordena los caracteres de tu nombre y tu apellido en las listas `nombres2` y `apellidos2`. Imprime el resultado y investiga: ¿qué orden ha cogido? ¿Cómo trata las mayúsculas?\n",
    "\n",
    "list(nombre)\n",
    "\n",
    "nombre_lista = list(nombre)\n",
    "\n",
    "print (nombre_lista)\n",
    "\n",
    "#ordeno alfabéticamente\n",
    "\n",
    "nombre_lista.sort()\n",
    "\n",
    "print (nombre_lista)"
   ]
  },
  {
   "cell_type": "code",
   "execution_count": 41,
   "metadata": {},
   "outputs": [
    {
     "name": "stdout",
     "output_type": "stream",
     "text": [
      "1\n"
     ]
    }
   ],
   "source": [
    "# 19. ¿Cuántas 'a' tiene tu nombre? ¿Y cuántas 'o'?\n",
    "\n",
    "print (nombre.count(\"a\"))"
   ]
  },
  {
   "cell_type": "code",
   "execution_count": 75,
   "metadata": {},
   "outputs": [
    {
     "name": "stdout",
     "output_type": "stream",
     "text": [
      "1\n"
     ]
    }
   ],
   "source": [
    "#21. ¿Cuántas veces esta semana llega la temperatura a la `t_max`? ¿Y cuántas a la `t_min`?\n",
    "\n",
    "max(temperaturas)\n",
    "\n",
    "temperatura_max = max(temperaturas) \n",
    "\n",
    "print (temperaturas.count(temperatura_max))"
   ]
  },
  {
   "cell_type": "code",
   "execution_count": 70,
   "metadata": {},
   "outputs": [
    {
     "data": {
      "text/plain": [
       "'saturday'"
      ]
     },
     "execution_count": 70,
     "metadata": {},
     "output_type": "execute_result"
    }
   ],
   "source": [
    "\n",
    "dias_semana = ['monday', 'tuesday', 'wednesday', 'thursday', 'friday', 'saturday', 'sunday']\n",
    "\n",
    "#¿Cuál es el penúltimo día de la semana?\n",
    "\n",
    "dias_semana [-2]\n",
    "\n",
    "#es lo mismo que\n",
    "\n",
    "dias_semana [len(dias_semana) - 2]"
   ]
  },
  {
   "cell_type": "code",
   "execution_count": 76,
   "metadata": {},
   "outputs": [
    {
     "data": {
      "text/plain": [
       "4"
      ]
     },
     "execution_count": 76,
     "metadata": {},
     "output_type": "execute_result"
    }
   ],
   "source": [
    "\n",
    "dias_semana.index(\"friday\")"
   ]
  }
 ],
 "metadata": {
  "kernelspec": {
   "display_name": "base",
   "language": "python",
   "name": "python3"
  },
  "language_info": {
   "codemirror_mode": {
    "name": "ipython",
    "version": 3
   },
   "file_extension": ".py",
   "mimetype": "text/x-python",
   "name": "python",
   "nbconvert_exporter": "python",
   "pygments_lexer": "ipython3",
   "version": "3.9.7"
  }
 },
 "nbformat": 4,
 "nbformat_minor": 2
}
