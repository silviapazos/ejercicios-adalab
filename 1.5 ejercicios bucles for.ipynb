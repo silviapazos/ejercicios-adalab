{
 "cells": [
  {
   "cell_type": "code",
   "execution_count": 6,
   "metadata": {},
   "outputs": [
    {
     "name": "stdout",
     "output_type": "stream",
     "text": [
      "las temperaturas bajas son: [2, 1]\n",
      "las temperaturas medias son: [12]\n",
      "las temperaturas altas son: [2, 45, 67, 23, 45, 66, 1, 34, 67, 99, 98, 67, 64, 44, 100]\n"
     ]
    }
   ],
   "source": [
    "# 1 Crea tres listas nuevas, donde: \n",
    "\n",
    "    # En la primera tengamos temperaturas entre 0 - 10, llama a la nueva lista `bajas_temp`.\n",
    "\n",
    "    # En la segunda tengamos temperaturas entre 11- 20, llama a la nueva lista `medias_temp`.\n",
    "\n",
    "    # En la tercera tengamos temperaturas por encima de 20, llama a la nueva lista `altas_temp`\n",
    "\n",
    "temperaturas = [2,45,67,23, 45,66,12,1,34,67,99,98,67,64, 44, 100] \n",
    "\n",
    "bajas_temp=[]\n",
    "medias_temp=[]\n",
    "altas_temp=[]\n",
    "\n",
    "#comienzo el bucle for\n",
    "\n",
    "for temp in temperaturas:\n",
    "    if temp <=10:\n",
    "        bajas_temp.append(temp)\n",
    "    \n",
    "    if temp > 10 and temp <= 20:\n",
    "        medias_temp.append(temp)\n",
    "    \n",
    "    else:\n",
    "        altas_temp.append(temp)\n",
    "\n",
    "print(\"las temperaturas bajas son:\", bajas_temp)\n",
    "print(\"las temperaturas medias son:\", medias_temp)\n",
    "print(\"las temperaturas altas son:\", altas_temp)"
   ]
  },
  {
   "cell_type": "code",
   "execution_count": 9,
   "metadata": {},
   "outputs": [
    {
     "name": "stdout",
     "output_type": "stream",
     "text": [
      "[34]\n",
      "........................\n",
      "[34, 77]\n",
      "........................\n",
      "[34, 77, 99]\n",
      "........................\n",
      "[34, 77, 99, 55]\n",
      "........................\n",
      "[34, 77, 99, 55, 77]\n",
      "........................\n",
      "[34, 77, 99, 55, 77, 98]\n",
      "........................\n",
      "[34, 77, 99, 55, 77, 98, 44]\n",
      "........................\n",
      "[34, 77, 99, 55, 77, 98, 44, 33]\n",
      "........................\n",
      "[34, 77, 99, 55, 77, 98, 44, 33, 66]\n",
      "........................\n",
      "[34, 77, 99, 55, 77, 98, 44, 33, 66, 99]\n",
      "........................\n",
      "[34, 77, 99, 55, 77, 98, 44, 33, 66, 99, 131]\n",
      "........................\n",
      "[34, 77, 99, 55, 77, 98, 44, 33, 66, 99, 131, 130]\n",
      "........................\n",
      "[34, 77, 99, 55, 77, 98, 44, 33, 66, 99, 131, 130, 99]\n",
      "........................\n",
      "[34, 77, 99, 55, 77, 98, 44, 33, 66, 99, 131, 130, 99, 96]\n",
      "........................\n",
      "[34, 77, 99, 55, 77, 98, 44, 33, 66, 99, 131, 130, 99, 96, 76]\n",
      "........................\n",
      "[34, 77, 99, 55, 77, 98, 44, 33, 66, 99, 131, 130, 99, 96, 76, 132]\n",
      "........................\n"
     ]
    }
   ],
   "source": [
    "# 2 Las temperaturas están grados centígrados.\n",
    "\n",
    "# Para cada una de las listas creadas en el ejercicio anterior, convertid las temperaturas a grados fahrenheit -> (0 °C × 9 / 5) + 32 = 32 °F\n",
    "\n",
    "temp_fahrenheit=[]\n",
    "\n",
    "for temp in temperaturas:\n",
    "    conversion=temp * (9//5) + 32 \n",
    "    temp_fahrenheit.append(conversion)\n",
    "    print(temp_fahrenheit)\n",
    "    print(\"........................\")\n"
   ]
  },
  {
   "cell_type": "code",
   "execution_count": null,
   "metadata": {},
   "outputs": [],
   "source": [
    "######### ojo con este mensaje, en el juego PPT tambien sale ##########"
   ]
  },
  {
   "cell_type": "code",
   "execution_count": 11,
   "metadata": {},
   "outputs": [
    {
     "name": "stdout",
     "output_type": "stream",
     "text": [
      "............\n",
      "0\n",
      "1\n",
      "2\n",
      "3\n",
      "4\n",
      "5\n"
     ]
    }
   ],
   "source": [
    "# 3 Define e imprime un rango de 0 a 6 (excluido)\n",
    "range(6)\n",
    "print(\"............\")\n",
    "for numero in range(6):\n",
    "    print(numero)"
   ]
  },
  {
   "cell_type": "code",
   "execution_count": 17,
   "metadata": {},
   "outputs": [
    {
     "name": "stdout",
     "output_type": "stream",
     "text": [
      "3\n",
      "4\n",
      "5\n",
      "6\n"
     ]
    }
   ],
   "source": [
    "# 4 Define e imprime un rango de 3 a 6 ambos incluidos \n",
    "#### empieza en el nº que marca el enunciado porque aqui no hace falta tener en cuenta el indice 0??\n",
    "\n",
    "for numero in range(3,7):\n",
    "    print(numero)"
   ]
  },
  {
   "cell_type": "code",
   "execution_count": 19,
   "metadata": {},
   "outputs": [
    {
     "name": "stdout",
     "output_type": "stream",
     "text": [
      "6\n",
      "7\n",
      "8\n"
     ]
    }
   ],
   "source": [
    "# 5 Define e imprime un rango de 5 a 9 ambos excluidos.\n",
    "\n",
    "for numero2 in range(6,9):\n",
    "    print(numero2)\n"
   ]
  },
  {
   "cell_type": "code",
   "execution_count": 20,
   "metadata": {},
   "outputs": [
    {
     "name": "stdout",
     "output_type": "stream",
     "text": [
      "2\n",
      "3\n",
      "4\n"
     ]
    }
   ],
   "source": [
    "# 6 Define e imprime un rango de 3 números que empiece en 2.\n",
    "for numero3 in range(2,2+3):\n",
    "    print(numero3)\n",
    "\n",
    "###### interesante, puedo hacer operaciones dentro de range #######"
   ]
  },
  {
   "cell_type": "code",
   "execution_count": null,
   "metadata": {},
   "outputs": [],
   "source": [
    "# 7. Define e imprime un rango que empiece en 2, aumentando cada paso por 3, que pare antes de llegar al número 13."
   ]
  },
  {
   "cell_type": "code",
   "execution_count": 24,
   "metadata": {},
   "outputs": [
    {
     "name": "stdout",
     "output_type": "stream",
     "text": [
      "1\n",
      "3\n",
      "5\n",
      "7\n",
      "9\n"
     ]
    }
   ],
   "source": [
    "# 8 Define e imprime un rango con todos los valores impares que hay hasta 10.\n",
    "\n",
    "for numeros_impares in range(1,11,2):\n",
    "    print(numeros_impares)"
   ]
  },
  {
   "cell_type": "code",
   "execution_count": null,
   "metadata": {},
   "outputs": [],
   "source": [
    "#9 Crea una lista nueva donde tengamos los números de la lista `temperaturas` elevados al cuadrado. "
   ]
  },
  {
   "cell_type": "code",
   "execution_count": null,
   "metadata": {},
   "outputs": [],
   "source": [
    "# 10"
   ]
  },
  {
   "cell_type": "code",
   "execution_count": 31,
   "metadata": {},
   "outputs": [
    {
     "ename": "SyntaxError",
     "evalue": "invalid syntax (561704557.py, line 5)",
     "output_type": "error",
     "traceback": [
      "\u001b[0;36m  File \u001b[0;32m\"/tmp/ipykernel_13069/561704557.py\"\u001b[0;36m, line \u001b[0;32m5\u001b[0m\n\u001b[0;31m    temperaturas_pares=[for temp3 in temperaturas if temp3 % 2 == 0]\u001b[0m\n\u001b[0m                        ^\u001b[0m\n\u001b[0;31mSyntaxError\u001b[0m\u001b[0;31m:\u001b[0m invalid syntax\n"
     ]
    }
   ],
   "source": [
    "#11 Crea una lista nueva donde tengamos solo los elementos pares de la lista `temperaturas`.\n",
    "\n",
    "# ejecuto con lista comprehensions con if \n",
    "\n",
    "temperaturas_pares=[for temp3 in temperaturas if temp3 % 2 == 0]\n"
   ]
  },
  {
   "cell_type": "code",
   "execution_count": 29,
   "metadata": {},
   "outputs": [
    {
     "name": "stdout",
     "output_type": "stream",
     "text": [
      "[2, 66, 12, 34, 98, 64, 44, 100]\n"
     ]
    }
   ],
   "source": [
    "# ejecuto con for\n",
    "\n",
    "temperaturas_pares2=[]\n",
    "\n",
    "for temp2 in temperaturas:\n",
    "    if temp2 % 2 == 0:\n",
    "        temperaturas_pares2.append(temp2)\n",
    "\n",
    "print(temperaturas_pares2)"
   ]
  },
  {
   "cell_type": "code",
   "execution_count": 33,
   "metadata": {},
   "outputs": [
    {
     "name": "stdout",
     "output_type": "stream",
     "text": [
      "['par', 'impar', 'impar', 'impar', 'impar', 'par', 'par', 'impar', 'par', 'impar', 'impar', 'par', 'impar', 'par', 'par', 'par']\n"
     ]
    }
   ],
   "source": [
    "# 13 Crea una lista donde tengamos los valores \"par\" e \"impar\" en función de los valores de la lista original. \n",
    "# La lista resultante tiene que ser como la que indicamos a continuación: \n",
    "\n",
    "lista_temperatura=[\"par\"if temp % 2 == 0 else \"impar\" for temp in temperaturas]\n",
    "\n",
    "print(lista_temperatura)"
   ]
  },
  {
   "cell_type": "code",
   "execution_count": null,
   "metadata": {},
   "outputs": [],
   "source": [
    "#### faltan  ejercicios hasta el ####"
   ]
  },
  {
   "cell_type": "code",
   "execution_count": null,
   "metadata": {},
   "outputs": [],
   "source": [
    "# 15 Pide al usuario ingresar una cadena y cuenta cuántas veces aparece cada vocal (a, e, i, o, u) en la cadena."
   ]
  },
  {
   "cell_type": "code",
   "execution_count": null,
   "metadata": {},
   "outputs": [],
   "source": [
    "for num in range(1,10):\n",
    "    suma"
   ]
  }
 ],
 "metadata": {
  "kernelspec": {
   "display_name": "base",
   "language": "python",
   "name": "python3"
  },
  "language_info": {
   "codemirror_mode": {
    "name": "ipython",
    "version": 3
   },
   "file_extension": ".py",
   "mimetype": "text/x-python",
   "name": "python",
   "nbconvert_exporter": "python",
   "pygments_lexer": "ipython3",
   "version": "3.9.7"
  }
 },
 "nbformat": 4,
 "nbformat_minor": 2
}
