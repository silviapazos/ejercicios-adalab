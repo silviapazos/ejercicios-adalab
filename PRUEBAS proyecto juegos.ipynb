{
 "cells": [
  {
   "cell_type": "code",
   "execution_count": 13,
   "metadata": {},
   "outputs": [
    {
     "name": "stdout",
     "output_type": "stream",
     "text": [
      "------------------------\n",
      "['   ', '    ', '    ']\n",
      "------------------------\n",
      "------------------------\n",
      "['    ', '    ', '    ']\n",
      "------------------------\n",
      "------------------------\n",
      "['    ', '    ', '    ']\n",
      "------------------------\n"
     ]
    }
   ],
   "source": [
    "# crear lista de listas para ir llevando la cuenta\n",
    "\n",
    "tablerojuego=[[\"   \" , \"    \",\"    \"],[\"    \", \"    \",\"    \"], [\"    \", \"    \",\"    \"]]\n",
    "\n",
    "for filas in tablerojuego:\n",
    "    print(\"------------------------\")\n",
    "    print(filas)\n",
    "    print(\"------------------------\")\n"
   ]
  },
  {
   "cell_type": "code",
   "execution_count": 1,
   "metadata": {},
   "outputs": [
    {
     "ename": "IndentationError",
     "evalue": "expected an indented block (1290555364.py, line 19)",
     "output_type": "error",
     "traceback": [
      "\u001b[0;36m  File \u001b[0;32m\"/tmp/ipykernel_19488/1290555364.py\"\u001b[0;36m, line \u001b[0;32m19\u001b[0m\n\u001b[0;31m    fila = input(\"¿fila uno, dos o tres?\")\u001b[0m\n\u001b[0m    ^\u001b[0m\n\u001b[0;31mIndentationError\u001b[0m\u001b[0;31m:\u001b[0m expected an indented block\n"
     ]
    }
   ],
   "source": [
    ",#JUEGO 3 EN RAYA (raquel)\n",
    "\n",
    "#Primero preguntamos cuáles son los nombres de lxs dos jugadorxs\n",
    "\n",
    "jugador_1 = input(\"Escribe tu nombre, jugador/a 1\")\n",
    "jugador_2 = input(\"Escribe tu nombre, jugador/a 2\")\n",
    "\n",
    "#Creamos el tablero, de 3x3, vacío\n",
    "tablero=(\" \" *9)\n",
    "fichas_tablero=0 \n",
    "\n",
    "#creamos variable para que funcione en bucle según las reglas:\n",
    "continuar= True\n",
    "\n",
    "while continuar:\n",
    "#pedimos posición ficha\n",
    "    #print(\"¿En qué posición quieres la ficha?\") \n",
    "\n",
    "fila = input(\"¿fila uno, dos o tres?\")\n",
    "columna = input(\"¿columna uno, dos o tres?\")\n",
    "casilla = fila*3+columna\n",
    "\n",
    "if tablero[casilla]!= \" \":\n",
    "    print(\"casilla ya cubierta\")\n",
    "\n",
    "else:\n",
    "    tablero[casilla]= ficha\n",
    "    return\n",
    "\n",
    "fichas_tablero +=1\n",
    "if(fichas_tablero ==9):\n",
    "    continuar= False \n",
    "\n",
    "\n",
    "\n",
    "print(tablero)"
   ]
  },
  {
   "cell_type": "code",
   "execution_count": 47,
   "metadata": {},
   "outputs": [
    {
     "name": "stdout",
     "output_type": "stream",
     "text": [
      "         \n"
     ]
    }
   ],
   "source": [
    "print(tablero)"
   ]
  },
  {
   "cell_type": "code",
   "execution_count": 10,
   "metadata": {},
   "outputs": [
    {
     "name": "stdout",
     "output_type": "stream",
     "text": [
      "canario\n"
     ]
    }
   ],
   "source": [
    "lista  = [\"perro\", \"gato\", \"elefante\", [\"loro\", \"canario\"]]\n",
    "\n",
    "print(lista [3][1])"
   ]
  },
  {
   "cell_type": "code",
   "execution_count": 31,
   "metadata": {},
   "outputs": [
    {
     "name": "stdout",
     "output_type": "stream",
     "text": [
      "['X', 'rosa', 'blanco']\n"
     ]
    }
   ],
   "source": [
    "colores=[\"azul\",\"rosa\",\"blanco\"]\n",
    "colores2=[\"negro\",\"verde\",\"azul\"]\n",
    "\n",
    "for color in colores:\n",
    "    if color in colores2:\n",
    "        indice=colores.index(color)\n",
    "        colores[indice]= \"X\"\n",
    "        print(colores)\n",
    "\n",
    "\n",
    "\n",
    "\n"
   ]
  },
  {
   "cell_type": "code",
   "execution_count": null,
   "metadata": {},
   "outputs": [],
   "source": [
    "operacion= lambda numero: numero **2\n"
   ]
  },
  {
   "cell_type": "code",
   "execution_count": 23,
   "metadata": {},
   "outputs": [
    {
     "name": "stdout",
     "output_type": "stream",
     "text": [
      "    |    |    \n",
      "---------------\n",
      "    |    |    \n",
      "---------------\n",
      "    |    |    \n",
      "---------------\n"
     ]
    },
    {
     "data": {
      "text/plain": [
       "<function __main__.imprimir_tablero(tablero)>"
      ]
     },
     "execution_count": 23,
     "metadata": {},
     "output_type": "execute_result"
    }
   ],
   "source": [
    "def imprimir_tablero(tablero):\n",
    "    for fila in tablero:\n",
    "        print(\"|\".join(fila))\n",
    "        print(\"-\" * 15)\n",
    "    return imprimir_tablero\n",
    "\n",
    "\n",
    "tablerojuego=[[\"    \" , \"    \",\"    \"],[\"    \", \"    \",\"    \"], [\"    \", \"    \",\"    \"]]\n",
    "imprimir_tablero(tablerojuego)"
   ]
  },
  {
   "cell_type": "code",
   "execution_count": null,
   "metadata": {},
   "outputs": [],
   "source": [
    "#\n",
    "#import random\n",
    "\n",
    "# Lista de números del 1 al 10\n",
    "#numeros = list(range(1, 11))\n",
    "\n",
    "# Obtener una muestra aleatoria de 5 números sin repetición\n",
    "#muestra_aleatoria = random.sample(numeros, 5)\n",
    "\n",
    "#print(\"Muestra aleatoria sin repetición:\", muestra_aleatoria)"
   ]
  }
 ],
 "metadata": {
  "kernelspec": {
   "display_name": "base",
   "language": "python",
   "name": "python3"
  },
  "language_info": {
   "codemirror_mode": {
    "name": "ipython",
    "version": 3
   },
   "file_extension": ".py",
   "mimetype": "text/x-python",
   "name": "python",
   "nbconvert_exporter": "python",
   "pygments_lexer": "ipython3",
   "version": "3.9.7"
  }
 },
 "nbformat": 4,
 "nbformat_minor": 2
}
